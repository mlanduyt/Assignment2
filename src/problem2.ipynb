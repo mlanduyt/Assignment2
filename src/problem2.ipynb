{
 "cells": [
  {
   "cell_type": "markdown",
   "metadata": {},
   "source": [
    "### The purpose of this tutorial is to walk through the execution of this code, starting with inputs and calculating the displacements and forces on the matrix defined. "
   ]
  },
  {
   "cell_type": "code",
   "execution_count": null,
   "metadata": {},
   "outputs": [],
   "source": [
    "#Import Libraries\n",
    "\n",
    "import numpy as np\n",
    "import matplotlib.pyplot as plt\n",
    "from src import *"
   ]
  },
  {
   "cell_type": "code",
   "execution_count": null,
   "metadata": {},
   "outputs": [],
   "source": [
    "# Define inputs\n",
    "E = 10000  # Young's Modulus (Pa)\n",
    "nu = 0.3  # Poisson's Ratio\n",
    "#Radius and Area\n",
    "r = 1 \n",
    "A = np.pi * r**2 \n",
    "#Moments of Inertia\n",
    "Iy = np.pi * r**4 / 4\n",
    "Iz = np.pi * r**4 / 4\n",
    "Irho = np.pi * r**4 / 2\n",
    "J = np.pi * r**4 / 2\n",
    "\n",
    "P = 1\n",
    "L = np.sqrt(((18)**2) + ((56)**2) + ((44)**2))\n",
    "Fx = -1*P*(18)/L\n",
    "Fy = -1*P*(56)/L\n",
    "Fz = -1*P*(44)/L\n",
    "\n",
    "#Define Nodes (x,y,z, node_id)\n",
    "nodes = np.array([\n",
    "    [0.0, 0.0, 0.0, 0],\n",
    "    [18.0*(1/6), 56*(1/6), 44*(1/6), 1],\n",
    "    [18.0*(2/6), 56*(2/6), 44*(2/6), 2],\n",
    "    [18.0*(3/6), 56*(3/6), 44*(3/6), 3],\n",
    "    [18.0*(4/6), 56*(4/6), 44*(4/6), 4],\n",
    "    [18.0*(5/6), 56*(5/6), 44*(5/6), 5],  \n",
    "    [18.0, 56.0, 44.0, 6], \n",
    "])\n",
    "\n",
    "#Connect the Nodes\n",
    "elements = np.array([\n",
    "    [0, 1],\n",
    "    [1, 2], \n",
    "    [2, 3],  \n",
    "    [3, 4], \n",
    "    [4, 5], \n",
    "    [5, 6], \n",
    "])\n",
    "\n",
    "#Assign constraints\n",
    "# (0.0, 0.0, 0.0, 0.0, 0.0, 0.0) = fixed node\n",
    "# (0.0, 0.0, 0.0, None, None, None) = pinned node\n",
    "# (None, None, None, None, None, None) = free node\n",
    "fixed_nodes = {\n",
    "    0: (0.0, 0.0, 0.0, 0.0, 0.0, 0.0), \n",
    "    1: (None, None, None, None, None, None),\n",
    "    2: (None, None, None, None, None, None), \n",
    "    3: (None, None, None, None, None, None),\n",
    "    4: (None, None, None, None, None, None), \n",
    "    5: (None, None, None, None, None, None),\n",
    "    6: (None, None, None, None, None, None),\n",
    "}\n",
    "print (Fx, Fy, Fz)\n",
    "loads = {\n",
    "    6: (-0.2450397, -0.7623458, -0.598986, 0.0, 0.0, 0.0),\n",
    "}"
   ]
  },
  {
   "cell_type": "markdown",
   "metadata": {},
   "source": [
    "### Compute Displacements and Forces\n"
   ]
  },
  {
   "cell_type": "code",
   "execution_count": null,
   "metadata": {},
   "outputs": [],
   "source": [
    "# --- Analysis and Plotting ---\n",
    "# Set up boundary conditions\n",
    "beam = Beam(nodes, elements, E, nu, A, Iy, Iz, Irho, J)\n",
    "bc = BoundaryCondition(fixed_nodes)\n",
    "for node_id, load in loads.items():\n",
    "    bc.apply_load(node_id, load)\n",
    "\n",
    "# Run the analysis\n",
    "solver = BeamSolver(beam, bc)\n",
    "displacements, reactions = solver.solve()\n",
    "print(\"Static Analysis Results:\")\n",
    "solver.display_results(displacements, reactions) \n",
    "print(\"Internal Forces per Element:\")\n",
    "for elem_id, forces in solver.internal_forces.items():\n",
    "    print(f\"Element {elem_id}: {np.round(forces, 5)}\")\n",
    "\n"
   ]
  },
  {
   "cell_type": "markdown",
   "metadata": {},
   "source": [
    "### Elastic Critical Mode Analysis"
   ]
  },
  {
   "cell_type": "code",
   "execution_count": null,
   "metadata": {},
   "outputs": [],
   "source": [
    "# Buckling analysis\n",
    "eigvals, eigvecs, buckling_forces = solver.solve_buckling()\n",
    "\n",
    "eigenvals = eigvals [:3]\n",
    "print ('Elastic Critical Load Factor', eigenvals)\n",
    "\n",
    "# Generate plot\n",
    "plot_buckling_mode(beam, eigvecs, buckling_forces, eigvals)"
   ]
  }
 ],
 "metadata": {
  "kernelspec": {
   "display_name": "me700",
   "language": "python",
   "name": "python3"
  },
  "language_info": {
   "codemirror_mode": {
    "name": "ipython",
    "version": 3
   },
   "file_extension": ".py",
   "mimetype": "text/x-python",
   "name": "python",
   "nbconvert_exporter": "python",
   "pygments_lexer": "ipython3",
   "version": "3.12.9"
  }
 },
 "nbformat": 4,
 "nbformat_minor": 2
}
