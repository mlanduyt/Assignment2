{
 "cells": [
  {
   "cell_type": "code",
   "execution_count": 2,
   "metadata": {},
   "outputs": [],
   "source": [
    "import math\n",
    "from pathlib import Path\n",
    "from function2 import *\n",
    "from MultiRoot import multi_root\n"
   ]
  },
  {
   "attachments": {},
   "cell_type": "markdown",
   "metadata": {},
   "source": [
    "# Example 1. \n",
    "```python\n",
    "f = lambda x: 2*x + 3\n",
    "```"
   ]
  },
  {
   "cell_type": "code",
   "execution_count": 8,
   "metadata": {},
   "outputs": [
    {
     "name": "stdout",
     "output_type": "stream",
     "text": [
      "root= [-1.5000000000023022]\n"
     ]
    }
   ],
   "source": [
    "#Simplest Example, evaluating a simple linear system\n",
    "f = lambda x: 2*x + 3\n",
    "root = multi_root(f)\n",
    "print (\"root=\", root)\n"
   ]
  },
  {
   "attachments": {},
   "cell_type": "markdown",
   "metadata": {},
   "source": [
    "# Example 2.\n",
    "Evaluating a binomial"
   ]
  },
  {
   "cell_type": "code",
   "execution_count": 4,
   "metadata": {},
   "outputs": [
    {
     "name": "stdout",
     "output_type": "stream",
     "text": [
      "root= [-0.707480250124033, 0.707480250124033]\n"
     ]
    }
   ],
   "source": [
    "#Adding complexity, evaluating a binomial\n",
    "f = lambda x: (x)**2 -0.5 \n",
    "root = multi_root(f)\n",
    "print (\"root=\", root)"
   ]
  },
  {
   "attachments": {},
   "cell_type": "markdown",
   "metadata": {},
   "source": [
    "# Example 3.\n",
    "Work with a exponential function"
   ]
  },
  {
   "cell_type": "code",
   "execution_count": 5,
   "metadata": {},
   "outputs": [
    {
     "name": "stdout",
     "output_type": "stream",
     "text": [
      "root= [3.321933399690954]\n"
     ]
    }
   ],
   "source": [
    "#Example 3.\n",
    "f = lambda x: 2**x - 10\n",
    "root = multi_root(f)\n",
    "print (\"root=\", root)"
   ]
  },
  {
   "attachments": {},
   "cell_type": "markdown",
   "metadata": {},
   "source": [
    "# Example 4. \n",
    "Equations of motion"
   ]
  },
  {
   "cell_type": "code",
   "execution_count": 6,
   "metadata": {},
   "outputs": [
    {
     "name": "stdout",
     "output_type": "stream",
     "text": [
      "root= [3.551941663900403e-05]\n"
     ]
    }
   ],
   "source": [
    "# Example 4.\n",
    "#Evaluating equation of motion of a cart attached to a spring.\n",
    "#Using mass (m) and spring constant (k)\n",
    "m = 1\n",
    "k = 1\n",
    "#This equation of motion results in the differential equation m(d^2x/dy^2) = -kx\n",
    "#Simplifying to 1/2x^2 + k*x = 0 and can be solved using this solver\n",
    "f = lambda x: m*x**2 + k*x\n",
    "root = multi_root(f)\n",
    "print (\"root=\", root)"
   ]
  },
  {
   "attachments": {},
   "cell_type": "markdown",
   "metadata": {},
   "source": [
    "# Example 5.\n",
    "Final example will evaluate projectile motion"
   ]
  },
  {
   "cell_type": "code",
   "execution_count": 7,
   "metadata": {},
   "outputs": [
    {
     "name": "stdout",
     "output_type": "stream",
     "text": [
      "root= [-21.511865211199535, -18.513789299502303]\n"
     ]
    }
   ],
   "source": [
    "# Example 5.\n",
    "#Evaluating falling motion\n",
    "#Using mass (m) and gravity (g)\n",
    "m = 1\n",
    "g = 9.8\n",
    "y0 = 0\n",
    "#Initial upwards velocity\n",
    "ydot = 10\n",
    "#This evaluation \n",
    "f = lambda x: y0 +ydot - m*g*x*x\n",
    "root = multi_root(f)\n",
    "print (\"root=\", root)\n"
   ]
  },
  {
   "cell_type": "code",
   "execution_count": null,
   "metadata": {},
   "outputs": [],
   "source": []
  }
 ],
 "metadata": {
  "kernelspec": {
   "display_name": "Python 3",
   "language": "python",
   "name": "python3"
  },
  "language_info": {
   "codemirror_mode": {
    "name": "ipython",
    "version": 3
   },
   "file_extension": ".py",
   "mimetype": "text/x-python",
   "name": "python",
   "nbconvert_exporter": "python",
   "pygments_lexer": "ipython3",
   "version": "3.12.1"
  }
 },
 "nbformat": 4,
 "nbformat_minor": 2
}
