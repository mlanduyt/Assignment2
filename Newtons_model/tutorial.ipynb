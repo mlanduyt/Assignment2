{
 "cells": [
  {
   "cell_type": "code",
   "execution_count": 22,
   "metadata": {},
   "outputs": [],
   "source": [
    "import numpy as np\n",
    "import math\n",
    "from pathlib import Path\n",
    "from function import *\n",
    "from MultiRoot import multi_root\n"
   ]
  },
  {
   "attachments": {},
   "cell_type": "markdown",
   "metadata": {},
   "source": [
    "# Example 1. \n",
    "```python\n",
    "f = lambda x: 2*x + 3\n",
    "```"
   ]
  },
  {
   "cell_type": "code",
   "execution_count": null,
   "metadata": {},
   "outputs": [],
   "source": [
    "#Simplest Example, evaluating a simple linear system\n",
    "f = lambda x: 2*x + 3\n",
    "root = multi_root(f)\n",
    "print (\"root=\", root)\n"
   ]
  },
  {
   "attachments": {},
   "cell_type": "markdown",
   "metadata": {},
   "source": [
    "# Example 2.\n",
    "Evaluating a binomial"
   ]
  },
  {
   "cell_type": "code",
   "execution_count": 24,
   "metadata": {},
   "outputs": [
    {
     "name": "stdout",
     "output_type": "stream",
     "text": [
      "root= [-0.707238164192339, 0.707108044939886]\n"
     ]
    }
   ],
   "source": [
    "#Adding complexity, evaluating a binomial\n",
    "f = lambda x: (x)**2 -0.5 \n",
    "root = multi_root(f)\n",
    "print (\"root=\", root)"
   ]
  },
  {
   "attachments": {},
   "cell_type": "markdown",
   "metadata": {},
   "source": [
    "# Example 3.\n",
    "Work with a trigonomic function"
   ]
  },
  {
   "cell_type": "code",
   "execution_count": null,
   "metadata": {},
   "outputs": [],
   "source": [
    "#Example 3.\n",
    "f = lambda phi: np.sin(phi*np.pi/180)\n",
    "root = multi_root(f)\n",
    "print (\"root=\", root)"
   ]
  },
  {
   "attachments": {},
   "cell_type": "markdown",
   "metadata": {},
   "source": [
    "# Example 4. \n",
    "Equations of motion"
   ]
  },
  {
   "cell_type": "code",
   "execution_count": null,
   "metadata": {},
   "outputs": [],
   "source": [
    "# Example 4.\n",
    "#Evaluating equation of motion of a cart attached to a spring.\n",
    "#Using mass (m) and spring constant (k)\n",
    "m = 1\n",
    "k = 1\n",
    "#This equation of motion results in the differential equation m(d^2x/dy^2) = -kx\n",
    "#Simplifying to 1/2x^2 + k*x = 0 and can be solved using this solver\n",
    "f = lambda x: m*x**2 + k*x\n",
    "root = multi_root(f)\n",
    "print (\"root=\", root)"
   ]
  },
  {
   "attachments": {},
   "cell_type": "markdown",
   "metadata": {},
   "source": [
    "# Example 5.\n",
    "Final example will evaluate projectile motion"
   ]
  },
  {
   "cell_type": "code",
   "execution_count": 21,
   "metadata": {},
   "outputs": [
    {
     "name": "stdout",
     "output_type": "stream",
     "text": [
      "root= [-2.268518518518507, 17.258988421693473]\n"
     ]
    }
   ],
   "source": [
    "# Example 5.\n",
    "#Evaluating projectile motion\n",
    "#Using mass (m) and gravity (g)\n",
    "m = 1\n",
    "g = 9.8\n",
    "y0 = 0\n",
    "#Initial upwards velocity\n",
    "ydot = 10\n",
    "#This evaluation \n",
    "f = lambda t: y0 + ydot*t - (m*g*t**2)\n",
    "root = multi_root(f)\n",
    "print (\"root=\", root)\n"
   ]
  },
  {
   "cell_type": "code",
   "execution_count": null,
   "metadata": {},
   "outputs": [],
   "source": []
  }
 ],
 "metadata": {
  "kernelspec": {
   "display_name": "me700-3env",
   "language": "python",
   "name": "python3"
  },
  "language_info": {
   "codemirror_mode": {
    "name": "ipython",
    "version": 3
   },
   "file_extension": ".py",
   "mimetype": "text/x-python",
   "name": "python",
   "nbconvert_exporter": "python",
   "pygments_lexer": "ipython3",
   "version": "3.12.8"
  }
 },
 "nbformat": 4,
 "nbformat_minor": 2
}
