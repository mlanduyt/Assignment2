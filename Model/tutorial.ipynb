{
 "cells": [
  {
   "cell_type": "code",
   "execution_count": null,
   "metadata": {},
   "outputs": [
    {
     "name": "stdout",
     "output_type": "stream",
     "text": [
      "Displacements [[-0.00000000e+00]\n",
      " [-6.66666667e-05]\n",
      " [-0.00000000e+00]\n",
      " [-0.00000000e+00]\n",
      " [-0.00000000e+00]\n",
      " [-2.00000000e-04]]\n",
      "Forces [[  0.]\n",
      " [-10.]\n",
      " [  0.]\n",
      " [  0.]\n",
      " [  0.]\n",
      " [ -6.]]\n"
     ]
    }
   ],
   "source": [
    "import numpy as np\n",
    "import math\n",
    "from analysis import *\n",
    "\n",
    "\n",
    "#Nodes in x,y,z components\n",
    "nodes = np.array([[1, 0, 0],[0, 0, 0]])\n",
    "#Loads in fx,fy,fz,mx,my,mz components \n",
    "load = np.array([[0,0,0,0,0,0],[0,-2,0,0,0,0]])\n",
    "# Node 0:fixed node, 1:fixed node, 3: pinned node\n",
    "nodeType = np.array([1,0])\n",
    "connections = np.array([[0, 1]])\n",
    "\n",
    "E = np.array([50])\n",
    "v = np.array([0.5])\n",
    "A = np.array([1])\n",
    "Iz = np.array([100])\n",
    "Iy = np.array([100])\n",
    "Ip = np.array([100])\n",
    "J = np.array([100])\n",
    "\n",
    "Elements = Elements(connections,E,v,A,Iz,Iy,Ip,J)\n",
    "Nodes = Nodes(nodes=nodes,load=load,nodeType=nodeType)\n",
    "\n",
    "displacement, forces = solver(Nodes,Elements)\n",
    "\n",
    "print(\"Displacements\", displacement)\n",
    "print(\"Forces\", forces)\n"
   ]
  },
  {
   "cell_type": "code",
   "execution_count": null,
   "metadata": {},
   "outputs": [],
   "source": []
  }
 ],
 "metadata": {
  "kernelspec": {
   "display_name": "Python 3",
   "language": "python",
   "name": "python3"
  },
  "language_info": {
   "codemirror_mode": {
    "name": "ipython",
    "version": 3
   },
   "file_extension": ".py",
   "mimetype": "text/x-python",
   "name": "python",
   "nbconvert_exporter": "python",
   "pygments_lexer": "ipython3",
   "version": "3.12.1"
  }
 },
 "nbformat": 4,
 "nbformat_minor": 2
}
