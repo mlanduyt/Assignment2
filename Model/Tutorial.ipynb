{
 "cells": [
  {
   "cell_type": "markdown",
   "metadata": {},
   "source": [
    "### The purpose of this tutorial is to walk through the execution of this code, starting with inputs and calculating the displacements and forces on the matrix defined. "
   ]
  },
  {
   "cell_type": "code",
   "execution_count": null,
   "metadata": {},
   "outputs": [],
   "source": [
    "#Import Libraries\n",
    "\n",
    "import sys\n",
    "import os\n",
    "import numpy as np\n",
    "from src import *\n",
    "from math_utils import *"
   ]
  },
  {
   "cell_type": "markdown",
   "metadata": {
    "slideshow": {
     "slide_type": "notes"
    }
   },
   "source": [
    "### Establish nodes (x, y, z)\n",
    "Establish elements to establish connectivity in the structure ([node1, node2, E, nu, A, Iz, Iy, Ip, J, z_axis])\n",
    "\n",
    "Establish support conditions, \n",
    "    1 = free DOF, \n",
    "    0 = constrained  \n",
    "    (Node index, x, y, z, z, y, p)\n",
    "\n",
    "Establish applied forces, must establish for each node (Fx, Fy, Fz, Mx, My, Mz)"
   ]
  },
  {
   "cell_type": "code",
   "execution_count": null,
   "metadata": {},
   "outputs": [],
   "source": [
    "node0 = [0, 0, 10]  \n",
    "node1 = [15, 0, 10]  \n",
    "node2 = [15, 0, 0]  \n",
    "nodes = np.array([node0, node1, node2])\n",
    "\n",
    "element1 = [0, 1, 1000, 0.3, 0.5, 0.041667, 0.010416, 0.16667, 0.02861, [0, 0, 1]]\n",
    "element2 = [1, 2, 1000, 0.3, 0.5, 0.041667, 0.010416, 0.16667, 0.02861, [1, 0, 0]]\n",
    "element_connect = np.array([element1, element2], dtype=object)\n",
    "\n",
    "support_0 = [0, 1, 1, 1, 1, 1, 1]  # Fixed Node\n",
    "support_1 = [1, 0, 0, 0, 0, 0, 0]  # Free Node\n",
    "support_2 = [2, 1, 1, 1, 0, 0, 0]  # Pinned Node\n",
    "supports = np.array([support_0, support_1, support_2])\n",
    "\n",
    "force_applied = np.array([  [  0,   0,    0,   0,   0,   0], \n",
    "                            [0.1,0.05,-0.07,0.05,-0.1,0.25],   \n",
    "                            [  0,   0,    0,   0,   0,   0]])  \n",
    "\n"
   ]
  },
  {
   "cell_type": "markdown",
   "metadata": {},
   "source": [
    "### Compute Displacements and Forces"
   ]
  },
  {
   "cell_type": "code",
   "execution_count": null,
   "metadata": {},
   "outputs": [],
   "source": [
    "displacement, forces = structure(nodes, element_connect, force_applied, supports)"
   ]
  },
  {
   "cell_type": "markdown",
   "metadata": {},
   "source": [
    "### Results\n"
   ]
  },
  {
   "cell_type": "code",
   "execution_count": null,
   "metadata": {},
   "outputs": [],
   "source": [
    "print(\"Displacements: = \", displacement)\n",
    "print(\"Forces = \", forces)"
   ]
  }
 ],
 "metadata": {
  "kernelspec": {
   "display_name": "Python 3",
   "language": "python",
   "name": "python3"
  },
  "language_info": {
   "codemirror_mode": {
    "name": "ipython",
    "version": 3
   },
   "file_extension": ".py",
   "mimetype": "text/x-python",
   "name": "python",
   "nbconvert_exporter": "python",
   "pygments_lexer": "ipython3",
   "version": "3.12.1"
  }
 },
 "nbformat": 4,
 "nbformat_minor": 2
}
