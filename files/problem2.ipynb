{
 "cells": [
  {
   "cell_type": "markdown",
   "metadata": {},
   "source": [
    "### The purpose of this tutorial is to walk through the execution of this code, starting with inputs and calculating the displacements and forces on the matrix defined. "
   ]
  },
  {
   "cell_type": "code",
   "execution_count": 65,
   "metadata": {},
   "outputs": [],
   "source": [
    "#Import Libraries\n",
    "\n",
    "import numpy as np\n",
    "import matplotlib.pyplot as plt\n",
    "from src import *"
   ]
  },
  {
   "cell_type": "code",
   "execution_count": 66,
   "metadata": {},
   "outputs": [
    {
     "name": "stdout",
     "output_type": "stream",
     "text": [
      "-0.24503974655279856 -0.7623458781642622 -0.5989860471290631\n"
     ]
    }
   ],
   "source": [
    "# Define inputs\n",
    "E = 10000  # Young's Modulus (Pa)\n",
    "nu = 0.3  # Poisson's Ratio\n",
    "#Radius and Area\n",
    "r = 1 \n",
    "A = np.pi * r**2 \n",
    "#Moments of Inertia\n",
    "Iy = np.pi * r**4 / 4\n",
    "Iz = np.pi * r**4 / 4\n",
    "Irho = np.pi * r**4 / 2\n",
    "J = np.pi * r**4 / 2\n",
    "\n",
    "P = 1\n",
    "L = np.sqrt(((18)**2) + ((56)**2) + ((44)**2))\n",
    "Fx = -1*P*(18)/L\n",
    "Fy = -1*P*(56)/L\n",
    "Fz = -1*P*(44)/L\n",
    "\n",
    "#Define Nodes (x,y,z, node_id)\n",
    "nodes = np.array([\n",
    "    [0.0, 0.0, 0.0, 0],\n",
    "    [18.0*(1/6), 56*(1/6), 44*(1/6), 1],\n",
    "    [18.0*(2/6), 56*(2/6), 44*(2/6), 2],\n",
    "    [18.0*(3/6), 56*(3/6), 44*(3/6), 3],\n",
    "    [18.0*(4/6), 56*(4/6), 44*(4/6), 4],\n",
    "    [18.0*(5/6), 56*(5/6), 44*(5/6), 5],  \n",
    "    [18.0, 56.0, 44.0, 6], \n",
    "])\n",
    "\n",
    "#Connect the Nodes\n",
    "elements = np.array([\n",
    "    [0, 1],\n",
    "    [1, 2], \n",
    "    [2, 3],  \n",
    "    [3, 4], \n",
    "    [4, 5], \n",
    "    [5, 6], \n",
    "])\n",
    "\n",
    "#Assign constraints\n",
    "# (0.0, 0.0, 0.0, 0.0, 0.0, 0.0) = fixed node\n",
    "# (0.0, 0.0, 0.0, None, None, None) = pinned node\n",
    "# (None, None, None, None, None, None) = free node\n",
    "fixed_nodes = {\n",
    "    0: (0.0, 0.0, 0.0, 0.0, 0.0, 0.0), \n",
    "    1: (None, None, None, None, None, None),\n",
    "    2: (None, None, None, None, None, None), \n",
    "    3: (None, None, None, None, None, None),\n",
    "    4: (None, None, None, None, None, None), \n",
    "    5: (None, None, None, None, None, None),\n",
    "    6: (None, None, None, None, None, None),\n",
    "}\n",
    "print (Fx, Fy, Fz)\n",
    "loads = {\n",
    "    6: (-0.2450397, -0.7623458, -0.598986, 0.0, 0.0, 0.0),\n",
    "}"
   ]
  },
  {
   "cell_type": "markdown",
   "metadata": {},
   "source": [
    "### Compute Displacements and Forces\n"
   ]
  },
  {
   "cell_type": "code",
   "execution_count": 67,
   "metadata": {},
   "outputs": [
    {
     "name": "stdout",
     "output_type": "stream",
     "text": [
      "Static Analysis Results:\n",
      "Node 0 Displacements: [dX: 0.0, dY: 0.0, dZ: 0.0, RX: 0.0, RY: 0.0, RZ: 0.0]\n",
      "Node 0 Reactions: [FX: 0.24504, FY: 0.76235, FZ: 0.59899, MX: 0.0, MY: -0.0, MZ: 0.0]\n",
      "---\n",
      "Node 1 Displacements: [dX: -0.0001, dY: -0.0003, dZ: -0.00023, RX: -0.0, RY: 0.0, RZ: -0.0]\n",
      "Node 1 Reactions: [FX: 0.0, FY: 0.0, FZ: 0.0, MX: 0.0, MY: 0.0, MZ: 0.0]\n",
      "---\n",
      "Node 2 Displacements: [dX: -0.00019, dY: -0.00059, dZ: -0.00047, RX: -0.0, RY: 0.0, RZ: -0.0]\n",
      "Node 2 Reactions: [FX: 0.0, FY: 0.0, FZ: 0.0, MX: 0.0, MY: 0.0, MZ: 0.0]\n",
      "---\n",
      "Node 3 Displacements: [dX: -0.00029, dY: -0.00089, dZ: -0.0007, RX: -0.0, RY: 0.0, RZ: -0.0]\n",
      "Node 3 Reactions: [FX: 0.0, FY: 0.0, FZ: 0.0, MX: 0.0, MY: 0.0, MZ: 0.0]\n",
      "---\n",
      "Node 4 Displacements: [dX: -0.00038, dY: -0.00119, dZ: -0.00093, RX: -0.0, RY: 0.0, RZ: -0.0]\n",
      "Node 4 Reactions: [FX: 0.0, FY: 0.0, FZ: 0.0, MX: 0.0, MY: 0.0, MZ: 0.0]\n",
      "---\n",
      "Node 5 Displacements: [dX: -0.00048, dY: -0.00149, dZ: -0.00117, RX: -0.0, RY: 0.0, RZ: -0.0]\n",
      "Node 5 Reactions: [FX: 0.0, FY: 0.0, FZ: 0.0, MX: 0.0, MY: 0.0, MZ: 0.0]\n",
      "---\n",
      "Node 6 Displacements: [dX: -0.00057, dY: -0.00178, dZ: -0.0014, RX: -0.0, RY: 0.0, RZ: -0.0]\n",
      "Node 6 Reactions: [FX: 0.0, FY: 0.0, FZ: 0.0, MX: 0.0, MY: 0.0, MZ: 0.0]\n",
      "---\n",
      "Internal Forces per Element:\n",
      "Element 0: [ 1.  0.  0. -0. -0.  0. -1. -0. -0.  0.  0. -0.]\n",
      "Element 1: [ 1.  0.  0. -0. -0.  0. -1. -0. -0.  0.  0. -0.]\n",
      "Element 2: [ 1.  0.  0. -0. -0.  0. -1. -0. -0.  0.  0. -0.]\n",
      "Element 3: [ 1.  0.  0. -0. -0.  0. -1. -0. -0.  0.  0. -0.]\n",
      "Element 4: [ 1.  0.  0. -0. -0.  0. -1. -0. -0.  0.  0. -0.]\n",
      "Element 5: [ 1.  0.  0. -0. -0.  0. -1. -0. -0.  0.  0. -0.]\n"
     ]
    }
   ],
   "source": [
    "# --- Analysis and Plotting ---\n",
    "# Set up boundary conditions\n",
    "beam = Beam(nodes, elements, E, nu, A, Iy, Iz, Irho, J)\n",
    "bc = BoundaryCondition(fixed_nodes)\n",
    "for node_id, load in loads.items():\n",
    "    bc.apply_load(node_id, load)\n",
    "\n",
    "# Run the analysis\n",
    "solver = BeamSolver(beam, bc)\n",
    "displacements, reactions = solver.solve()\n",
    "print(\"Static Analysis Results:\")\n",
    "solver.display_results(displacements, reactions) \n",
    "print(\"Internal Forces per Element:\")\n",
    "for elem_id, forces in solver.internal_forces.items():\n",
    "    print(f\"Element {elem_id}: {np.round(forces, 5)}\")\n",
    "\n"
   ]
  },
  {
   "cell_type": "markdown",
   "metadata": {},
   "source": [
    "### Elastic Critical Mode Analysis"
   ]
  },
  {
   "cell_type": "code",
   "execution_count": 70,
   "metadata": {},
   "outputs": [
    {
     "name": "stdout",
     "output_type": "stream",
     "text": [
      "Elastic Critical Load Factor []\n"
     ]
    },
    {
     "ename": "IndexError",
     "evalue": "index 0 is out of bounds for axis 1 with size 0",
     "output_type": "error",
     "traceback": [
      "\u001b[0;31m---------------------------------------------------------------------------\u001b[0m",
      "\u001b[0;31mIndexError\u001b[0m                                Traceback (most recent call last)",
      "Cell \u001b[0;32mIn[70], line 8\u001b[0m\n\u001b[1;32m      5\u001b[0m \u001b[38;5;28mprint\u001b[39m (\u001b[38;5;124m'\u001b[39m\u001b[38;5;124mElastic Critical Load Factor\u001b[39m\u001b[38;5;124m'\u001b[39m, eigenvals)\n\u001b[1;32m      7\u001b[0m \u001b[38;5;66;03m# Generate plot\u001b[39;00m\n\u001b[0;32m----> 8\u001b[0m \u001b[43mplot_buckling_mode\u001b[49m\u001b[43m(\u001b[49m\u001b[43mbeam\u001b[49m\u001b[43m,\u001b[49m\u001b[43m \u001b[49m\u001b[43meigvecs\u001b[49m\u001b[43m,\u001b[49m\u001b[43m \u001b[49m\u001b[43mbuckling_forces\u001b[49m\u001b[43m,\u001b[49m\u001b[43m \u001b[49m\u001b[43meigvals\u001b[49m\u001b[43m)\u001b[49m\n",
      "File \u001b[0;32m/workspaces/Assignment2/src/src.py:353\u001b[0m, in \u001b[0;36mplot_buckling_mode\u001b[0;34m(beam, eigvecs, buckling_forces, eigvals, mode_num)\u001b[0m\n\u001b[1;32m    352\u001b[0m \u001b[38;5;28;01mdef\u001b[39;00m \u001b[38;5;21mplot_buckling_mode\u001b[39m(beam, eigvecs, buckling_forces, eigvals, mode_num\u001b[38;5;241m=\u001b[39m\u001b[38;5;241m0\u001b[39m):\n\u001b[0;32m--> 353\u001b[0m     mode \u001b[38;5;241m=\u001b[39m \u001b[43meigvecs\u001b[49m\u001b[43m[\u001b[49m\u001b[43m:\u001b[49m\u001b[43m,\u001b[49m\u001b[43m \u001b[49m\u001b[43mmode_num\u001b[49m\u001b[43m]\u001b[49m\n\u001b[1;32m    354\u001b[0m     fig \u001b[38;5;241m=\u001b[39m plt\u001b[38;5;241m.\u001b[39mfigure(figsize\u001b[38;5;241m=\u001b[39m(\u001b[38;5;241m12\u001b[39m, \u001b[38;5;241m9\u001b[39m))\n\u001b[1;32m    355\u001b[0m     ax \u001b[38;5;241m=\u001b[39m fig\u001b[38;5;241m.\u001b[39madd_subplot(\u001b[38;5;241m111\u001b[39m, projection\u001b[38;5;241m=\u001b[39m\u001b[38;5;124m'\u001b[39m\u001b[38;5;124m3d\u001b[39m\u001b[38;5;124m'\u001b[39m)\n",
      "\u001b[0;31mIndexError\u001b[0m: index 0 is out of bounds for axis 1 with size 0"
     ]
    }
   ],
   "source": [
    "# Buckling analysis\n",
    "eigvals, eigvecs, buckling_forces = solver.solve_buckling()\n",
    "\n",
    "eigenvals = eigvals [:3]\n",
    "print ('Elastic Critical Load Factor', eigenvals)\n",
    "\n",
    "# Generate plot\n",
    "plot_buckling_mode(beam, eigvecs, buckling_forces, eigvals)"
   ]
  }
 ],
 "metadata": {
  "kernelspec": {
   "display_name": "me-700",
   "language": "python",
   "name": "python3"
  },
  "language_info": {
   "codemirror_mode": {
    "name": "ipython",
    "version": 3
   },
   "file_extension": ".py",
   "mimetype": "text/x-python",
   "name": "python",
   "nbconvert_exporter": "python",
   "pygments_lexer": "ipython3",
   "version": "3.12.9"
  }
 },
 "nbformat": 4,
 "nbformat_minor": 2
}
