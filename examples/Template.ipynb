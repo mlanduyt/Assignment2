{
 "cells": [
  {
   "cell_type": "markdown",
   "metadata": {},
   "source": [
    "### The purpose of this tutorial is to walk through the execution of this code, starting with inputs and calculating the displacements and forces on the matrix defined. "
   ]
  },
  {
   "cell_type": "code",
   "execution_count": null,
   "metadata": {},
   "outputs": [],
   "source": [
    "#Import Libraries\n",
    "\n",
    "import numpy as np\n",
    "import matplotlib.pyplot as plt\n",
    "from src import *"
   ]
  },
  {
   "cell_type": "code",
   "execution_count": null,
   "metadata": {},
   "outputs": [],
   "source": [
    "# Define inputs\n",
    "E =   # Young's Modulus (Pa)\n",
    "nu =   # Poisson's Ratio\n",
    "#Input Area\n",
    "A =  \n",
    "\n",
    "#Moments of Inertia\n",
    "Iy = \n",
    "Iz = \n",
    "Irho = \n",
    "J = \n",
    "\n",
    "#Define Nodes (x,y,z, node_id)\n",
    "nodes = np.array([\n",
    "    [XX, YY, ZZ, node_id],\n",
    "\n",
    "])\n",
    "\n",
    "#Connect the Nodes\n",
    "elements = np.array([\n",
    "    [node_1_id, node_2_id],\n",
    "    [1, 2], \n",
    "    [2, 3],  \n",
    "    [3, 4], \n",
    "    [4, 5], \n",
    "    [5, 6], \n",
    "])\n",
    "\n",
    "#Assign constraints\n",
    "# (0.0, 0.0, 0.0, 0.0, 0.0, 0.0) = fixed node\n",
    "# (0.0, 0.0, 0.0, None, None, None) = pinned node\n",
    "# (None, None, None, None, None, None) = free node\n",
    "fixed_nodes = {\n",
    "    0: (0.0, 0.0, 0.0, 0.0, 0.0, 0.0), \n",
    "    1: (None, None, None, None, None, None),\n",
    "    2: (None, None, None, None, None, None), \n",
    "    3: (None, None, None, None, None, None),\n",
    "    4: (None, None, None, None, None, None), \n",
    "    5: (None, None, None, None, None, None),\n",
    "    6: (None, None, None, None, None, None),\n",
    "}\n",
    "\n",
    "loads = {\n",
    "    node_id: (Fx, Fy, Fz, Mx, My, Mz),\n",
    "}"
   ]
  },
  {
   "cell_type": "markdown",
   "metadata": {},
   "source": [
    "### Compute Displacements and Forces\n"
   ]
  },
  {
   "cell_type": "code",
   "execution_count": null,
   "metadata": {},
   "outputs": [],
   "source": [
    "# --- Analysis and Plotting ---\n",
    "# Set up boundary conditions\n",
    "beam = Beam(nodes, elements, E, nu, A, Iy, Iz, Irho, J)\n",
    "bc = BoundaryCondition(fixed_nodes)\n",
    "for node_id, load in loads.items():\n",
    "    bc.apply_load(node_id, load)\n",
    "\n",
    "# Run the analysis\n",
    "solver = BeamSolver(beam, bc)\n",
    "displacements, reactions = solver.solve()\n",
    "print(\"Static Analysis Results:\")\n",
    "solver.display_results(displacements, reactions) \n",
    "print(\"Internal Forces per Element:\")\n",
    "for elem_id, forces in solver.internal_forces.items():\n",
    "    print(f\"Element {elem_id}: {np.round(forces, 5)}\")\n"
   ]
  },
  {
   "cell_type": "markdown",
   "metadata": {},
   "source": [
    "### Elastic Critical Mode Analysis"
   ]
  },
  {
   "cell_type": "code",
   "execution_count": null,
   "metadata": {},
   "outputs": [],
   "source": [
    "# Buckling analysis\n",
    "eigvals, eigvecs, buckling_forces = solver.solve_buckling()\n",
    "\n",
    "eigenvals = eigvals [:3]\n",
    "print ('Elastic Critical Load Factor', eigenvals)\n",
    "\n",
    "# Generate plot\n",
    "plot_buckling_mode(beam, eigvecs, buckling_forces, eigvals)"
   ]
  }
 ],
 "metadata": {
  "kernelspec": {
   "display_name": "me-700",
   "language": "python",
   "name": "python3"
  },
  "language_info": {
   "codemirror_mode": {
    "name": "ipython",
    "version": 3
   },
   "file_extension": ".py",
   "mimetype": "text/x-python",
   "name": "python",
   "nbconvert_exporter": "python",
   "pygments_lexer": "ipython3",
   "version": "3.12.9"
  }
 },
 "nbformat": 4,
 "nbformat_minor": 2
}
